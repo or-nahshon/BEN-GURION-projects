{
 "cells": [
  {
   "cell_type": "code",
   "execution_count": 59,
   "metadata": {
    "collapsed": true
   },
   "outputs": [],
   "source": [
    "import pandas as pd\n",
    "import statistics as sta\n",
    "from datetime import date\n",
    "import numpy as np\n"
   ]
  },
  {
   "cell_type": "code",
   "execution_count": 60,
   "outputs": [],
   "source": [
    "df = pd.read_excel(r\"files/dbo_Req755_ProceduresDetails.xlsx\")\n",
    "df2 = pd.read_excel(r\"files/dbo_Req755_DataFromBridgeSystem.xlsx\")"
   ],
   "metadata": {
    "collapsed": false,
    "pycharm": {
     "name": "#%%\n"
    }
   }
  },
  {
   "cell_type": "code",
   "execution_count": 61,
   "outputs": [
    {
     "name": "stdout",
     "output_type": "stream",
     "text": [
      "0        1.525000\n",
      "1        1.023611\n",
      "2        2.955833\n",
      "3        3.563333\n",
      "4        0.795278\n",
      "           ...   \n",
      "11113    2.121667\n",
      "11114    0.363056\n",
      "11115    1.991667\n",
      "11116    0.612778\n",
      "11117    0.964722\n",
      "Name: duration, Length: 11118, dtype: float64\n"
     ]
    },
    {
     "data": {
      "text/plain": "          PID  HospEncounterID  ProcedureID       ProcedureDate  \\\n0  5716942140         32821661      1070647 2020-05-14 12:28:58   \n1  5684714336         34114214      1021327 2019-07-09 09:09:22   \n2  5714156343         35055124      1056739 2020-01-17 09:35:11   \n3  5714114350         34979873      1052533 2020-01-08 12:27:49   \n4  5706477035         35946466      1085274 2020-08-06 10:44:30   \n\n  ProcedureDateCompletion                                         ReportText  \\\n0     2020-05-14 13:30:23  בהרדמה כללית רחצה כיסוי וחיטוי\\r\\nכריתת הרקטום...   \n1     2019-07-09 12:06:43  כריתת חלחולת (ללא איליאוסטומיה) – LOW ANTERIOR...   \n2     2020-01-17 13:08:59  בהרדמה כללית ,שכיבה על גב , רחצה וכיסוי סטרילי...   \n3     2020-01-08 13:15:32  \\r\\nמטופלת לאחר כריתת פוליפ רקטאלי בקיר קדמי ....   \n4     2020-08-06 11:38:09  \\r\\nהרדמה כללית, חיטוי וכיסוי כמקובל.\\r\\nחתך ר...   \n\n   duration     SurDate  Teudat_Zehut   Ms_nituah  ...  Status  Urgency  \\\n0  1.023611  2020-05-14       1026607  2020502388  ...       3        ר   \n1  2.955833  2019-07-09       1042281  2019510480  ...       3        ר   \n2  3.563333  2020-01-17       1046893  2020000818  ...       9        ר   \n3  0.795278  2020-01-08       1056203  2020500573  ...       3        ר   \n4  0.894167  2020-08-06       1105152  2020511301  ...       3        ר   \n\n  Sug_Misgeret Type_of_surgery  Ready_For_Introduction Sug_Hardama  Rentgen  \\\n0            1             158                     NaN           1        ל   \n1            1             158                     NaN           1        ל   \n2            1             206                     NaN           1        כ   \n3            1             158                     NaN           1        ל   \n4            1              26                     NaN           1        ל   \n\n   Manot_Dam             OperationDesc  OperationType  \n0          0  פרוקטו רקטום+פי הטבעת 06             E6  \n1          2                מעי גס 051             50  \n2          0                       NaN            NaN  \n3          0  פרוקטו רקטום+פי הטבעת 06             E6  \n4          0                  הרניה 06             33  \n\n[5 rows x 24 columns]",
      "text/html": "<div>\n<style scoped>\n    .dataframe tbody tr th:only-of-type {\n        vertical-align: middle;\n    }\n\n    .dataframe tbody tr th {\n        vertical-align: top;\n    }\n\n    .dataframe thead th {\n        text-align: right;\n    }\n</style>\n<table border=\"1\" class=\"dataframe\">\n  <thead>\n    <tr style=\"text-align: right;\">\n      <th></th>\n      <th>PID</th>\n      <th>HospEncounterID</th>\n      <th>ProcedureID</th>\n      <th>ProcedureDate</th>\n      <th>ProcedureDateCompletion</th>\n      <th>ReportText</th>\n      <th>duration</th>\n      <th>SurDate</th>\n      <th>Teudat_Zehut</th>\n      <th>Ms_nituah</th>\n      <th>...</th>\n      <th>Status</th>\n      <th>Urgency</th>\n      <th>Sug_Misgeret</th>\n      <th>Type_of_surgery</th>\n      <th>Ready_For_Introduction</th>\n      <th>Sug_Hardama</th>\n      <th>Rentgen</th>\n      <th>Manot_Dam</th>\n      <th>OperationDesc</th>\n      <th>OperationType</th>\n    </tr>\n  </thead>\n  <tbody>\n    <tr>\n      <th>0</th>\n      <td>5716942140</td>\n      <td>32821661</td>\n      <td>1070647</td>\n      <td>2020-05-14 12:28:58</td>\n      <td>2020-05-14 13:30:23</td>\n      <td>בהרדמה כללית רחצה כיסוי וחיטוי\\r\\nכריתת הרקטום...</td>\n      <td>1.023611</td>\n      <td>2020-05-14</td>\n      <td>1026607</td>\n      <td>2020502388</td>\n      <td>...</td>\n      <td>3</td>\n      <td>ר</td>\n      <td>1</td>\n      <td>158</td>\n      <td>NaN</td>\n      <td>1</td>\n      <td>ל</td>\n      <td>0</td>\n      <td>פרוקטו רקטום+פי הטבעת 06</td>\n      <td>E6</td>\n    </tr>\n    <tr>\n      <th>1</th>\n      <td>5684714336</td>\n      <td>34114214</td>\n      <td>1021327</td>\n      <td>2019-07-09 09:09:22</td>\n      <td>2019-07-09 12:06:43</td>\n      <td>כריתת חלחולת (ללא איליאוסטומיה) – LOW ANTERIOR...</td>\n      <td>2.955833</td>\n      <td>2019-07-09</td>\n      <td>1042281</td>\n      <td>2019510480</td>\n      <td>...</td>\n      <td>3</td>\n      <td>ר</td>\n      <td>1</td>\n      <td>158</td>\n      <td>NaN</td>\n      <td>1</td>\n      <td>ל</td>\n      <td>2</td>\n      <td>מעי גס 051</td>\n      <td>50</td>\n    </tr>\n    <tr>\n      <th>2</th>\n      <td>5714156343</td>\n      <td>35055124</td>\n      <td>1056739</td>\n      <td>2020-01-17 09:35:11</td>\n      <td>2020-01-17 13:08:59</td>\n      <td>בהרדמה כללית ,שכיבה על גב , רחצה וכיסוי סטרילי...</td>\n      <td>3.563333</td>\n      <td>2020-01-17</td>\n      <td>1046893</td>\n      <td>2020000818</td>\n      <td>...</td>\n      <td>9</td>\n      <td>ר</td>\n      <td>1</td>\n      <td>206</td>\n      <td>NaN</td>\n      <td>1</td>\n      <td>כ</td>\n      <td>0</td>\n      <td>NaN</td>\n      <td>NaN</td>\n    </tr>\n    <tr>\n      <th>3</th>\n      <td>5714114350</td>\n      <td>34979873</td>\n      <td>1052533</td>\n      <td>2020-01-08 12:27:49</td>\n      <td>2020-01-08 13:15:32</td>\n      <td>\\r\\nמטופלת לאחר כריתת פוליפ רקטאלי בקיר קדמי ....</td>\n      <td>0.795278</td>\n      <td>2020-01-08</td>\n      <td>1056203</td>\n      <td>2020500573</td>\n      <td>...</td>\n      <td>3</td>\n      <td>ר</td>\n      <td>1</td>\n      <td>158</td>\n      <td>NaN</td>\n      <td>1</td>\n      <td>ל</td>\n      <td>0</td>\n      <td>פרוקטו רקטום+פי הטבעת 06</td>\n      <td>E6</td>\n    </tr>\n    <tr>\n      <th>4</th>\n      <td>5706477035</td>\n      <td>35946466</td>\n      <td>1085274</td>\n      <td>2020-08-06 10:44:30</td>\n      <td>2020-08-06 11:38:09</td>\n      <td>\\r\\nהרדמה כללית, חיטוי וכיסוי כמקובל.\\r\\nחתך ר...</td>\n      <td>0.894167</td>\n      <td>2020-08-06</td>\n      <td>1105152</td>\n      <td>2020511301</td>\n      <td>...</td>\n      <td>3</td>\n      <td>ר</td>\n      <td>1</td>\n      <td>26</td>\n      <td>NaN</td>\n      <td>1</td>\n      <td>ל</td>\n      <td>0</td>\n      <td>הרניה 06</td>\n      <td>33</td>\n    </tr>\n  </tbody>\n</table>\n<p>5 rows × 24 columns</p>\n</div>"
     },
     "execution_count": 61,
     "metadata": {},
     "output_type": "execute_result"
    }
   ],
   "source": [
    "df = pd.read_excel(r\"files/dbo_Req755_ProceduresDetails.xlsx\")\n",
    "\n",
    "df2 = pd.read_excel(r\"files/dbo_Req755_DataFromBridgeSystem.xlsx\")\n",
    "\n",
    "df['duration']=( df['ProcedureDateCompletion']-df['ProcedureDate'] )/np.timedelta64(1,'h')\n",
    "\n",
    "print(df['duration'])\n",
    "\n",
    "SurgeryDate=[]\n",
    "for i in df['ProcedureDate']:\n",
    "    temp = i.strftime('%Y-%m-%d')\n",
    "    SurgeryDate.append( date.fromisoformat(temp))\n",
    "df['SurDate'] = SurgeryDate\n",
    "\n",
    "\n",
    "SDate=[]\n",
    "for j in df2['SurgeryDate']:\n",
    "    temp = j.strftime('%Y-%m-%d')\n",
    "    SDate.append( date.fromisoformat(temp))\n",
    "df2['SurDate'] = SDate\n",
    "data = df.merge(df2, how='inner', on=[\"PID\", \"SurDate\"])\n",
    "data.head()\n"
   ],
   "metadata": {
    "collapsed": false,
    "pycharm": {
     "name": "#%%\n"
    }
   }
  },
  {
   "cell_type": "code",
   "execution_count": 62,
   "outputs": [
    {
     "name": "stdout",
     "output_type": "stream",
     "text": [
      "0        1.525000\n",
      "1        1.023611\n",
      "2        2.955833\n",
      "3        3.563333\n",
      "4        0.795278\n",
      "           ...   \n",
      "11113    2.121667\n",
      "11114    0.363056\n",
      "11115    1.991667\n",
      "11116    0.612778\n",
      "11117    0.964722\n",
      "Name: duration, Length: 11118, dtype: float64\n"
     ]
    }
   ],
   "source": [
    "#merge_tables_dbo_Req755_ProceduresDetails_dbo_Req755_DataFromBridgeSystem\n",
    "\n",
    "df = pd.read_excel(r\"files/dbo_Req755_ProceduresDetails.xlsx\")\n",
    "df2 = pd.read_excel(r\"files/dbo_Req755_DataFromBridgeSystem.xlsx\")\n",
    "\n",
    "df['duration']=( df['ProcedureDateCompletion']-df['ProcedureDate'] )/np.timedelta64(1,'h')\n",
    "print(df['duration'])\n",
    "SurgeryDate=[]\n",
    "for i in df['ProcedureDate']:\n",
    "    temp = i.strftime('%Y-%m-%d')\n",
    "    SurgeryDate.append( date.fromisoformat(temp))\n",
    "df['SurDate'] = SurgeryDate\n",
    "\n",
    "\n",
    "SDate=[]\n",
    "for j in df2['SurgeryDate']:\n",
    "    temp = j.strftime('%Y-%m-%d')\n",
    "    SDate.append( date.fromisoformat(temp))\n",
    "df2['SurDate'] = SDate\n",
    "\n",
    "\n",
    "data = df.merge(df2, how='inner', on=[\"PID\", \"SurDate\"])\n",
    "#data.to_excel(r\"files/merge_tables_dbo_Req755_ProceduresDetails_dbo_Req755_DataFromBridgeSystem.xlsx\")\n"
   ],
   "metadata": {
    "collapsed": false,
    "pycharm": {
     "name": "#%%\n"
    }
   }
  },
  {
   "cell_type": "code",
   "execution_count": 63,
   "outputs": [],
   "source": [
    "oper = pd.read_csv(r\"files/Operations_all.csv\")"
   ],
   "metadata": {
    "collapsed": false,
    "pycharm": {
     "name": "#%%\n"
    }
   }
  },
  {
   "cell_type": "code",
   "execution_count": 64,
   "outputs": [],
   "source": [
    "res1 = pd.DataFrame()\n",
    "res2 = pd.DataFrame()\n",
    "for index, row in oper.iterrows():\n",
    "    surgeryType_temp=row['Type_of_surgery']\n",
    "    operType_temp=row['OperationType']\n",
    "    OperationDesc_temp=row['OperationDesc']\n",
    "    type_name = 'type' + str(surgeryType_temp)+\"-\"+str(operType_temp)\n",
    "\n",
    "    df_temp = data[data['Type_of_surgery'] == surgeryType_temp]\n",
    "    mask= df_temp['OperationType'] == operType_temp\n",
    "    mask2=data['OperationType'] == operType_temp\n",
    "    final= df_temp[mask]\n",
    "    if len(final)>0:\n",
    "        if len(final)>1:\n",
    "            x=list(final['duration'])\n",
    "            res1 = res1.append({'Type_of_surgery':surgeryType_temp,\n",
    "                          'OperationType':operType_temp,\n",
    "                              'OperationDesc':OperationDesc_temp,\n",
    "                               'length': len(x),\n",
    "                               'avg': sta.mean(x),\n",
    "                               'sd': sta.stdev(x),\n",
    "                              'list_of_duration': x},\n",
    "                              ignore_index=True)\n",
    "\n",
    "            cond = data['ProcedureID'].isin(final['ProcedureID'])\n",
    "            data.drop(data[cond].index, inplace=True)\n",
    "        if len(final)==1:\n",
    "            x=list(final['duration'])\n",
    "            res2 = res2.append({'Type_of_surgery':surgeryType_temp,\n",
    "                          'OperationType':operType_temp,\n",
    "                            'OperationDesc':OperationDesc_temp,\n",
    "                               'length': len(x),\n",
    "                               'avg': sta.mean(x),\n",
    "                                'list_of_duration': x},\n",
    "                              ignore_index=True)\n",
    "\n",
    "            cond = data['ProcedureID'].isin(final['ProcedureID'])\n",
    "            data.drop(data[cond].index, inplace=True)"
   ],
   "metadata": {
    "collapsed": false,
    "pycharm": {
     "name": "#%%\n"
    }
   }
  },
  {
   "cell_type": "code",
   "execution_count": 65,
   "outputs": [
    {
     "data": {
      "text/plain": "              OperationDesc OperationType  Type_of_surgery       avg  length  \\\n0                  הרניה 06            33             26.0  0.888587   176.0   \n1                מעי גס 051            50            158.0  3.067114    64.0   \n2         עמ\"ש 024(מבוגרים)            51             46.0  4.970605    45.0   \n3           בלוטות לימפה 07            73            124.0  0.656235    63.0   \n4             קיבה 05 ()LAP             2             42.0  1.261255   270.0   \n..                      ...           ...              ...       ...     ...   \n192  גפה תחתונה 06(מבוגרים)            30            253.0  2.187639     2.0   \n193  גפה עליונה 06(מבוגרים)            25            121.0  1.525000     2.0   \n194       שונות 03(מבוגרים)            53            120.0  0.463333     2.0   \n195              מעי גס 021            47            186.0  1.614352     3.0   \n196       עמ\"ש 024(מבוגרים)            51             48.0  5.425648     6.0   \n\n                                      list_of_duration        sd  \n0    [0.8941666666666667, 1.105, 0.9786111111111111...  0.277584  \n1    [2.9558333333333335, 3.636111111111111, 4.3355...  1.077414  \n2    [4.923055555555556, 8.329444444444444, 6.58833...  1.760023  \n3    [0.5672222222222222, 0.6527777777777778, 0.583...  0.264419  \n4    [1.1094444444444445, 1.8683333333333334, 1.186...  0.325605  \n..                                                 ...       ...  \n192           [1.8244444444444445, 2.5508333333333333]  0.513635  \n193           [0.8383333333333334, 2.2116666666666664]  0.971093  \n194           [0.4197222222222222, 0.5069444444444444]  0.061675  \n195  [1.441111111111111, 1.8280555555555555, 1.5738...  0.196620  \n196  [5.032777777777778, 12.294722222222223, 3.5122...  3.461428  \n\n[197 rows x 7 columns]",
      "text/html": "<div>\n<style scoped>\n    .dataframe tbody tr th:only-of-type {\n        vertical-align: middle;\n    }\n\n    .dataframe tbody tr th {\n        vertical-align: top;\n    }\n\n    .dataframe thead th {\n        text-align: right;\n    }\n</style>\n<table border=\"1\" class=\"dataframe\">\n  <thead>\n    <tr style=\"text-align: right;\">\n      <th></th>\n      <th>OperationDesc</th>\n      <th>OperationType</th>\n      <th>Type_of_surgery</th>\n      <th>avg</th>\n      <th>length</th>\n      <th>list_of_duration</th>\n      <th>sd</th>\n    </tr>\n  </thead>\n  <tbody>\n    <tr>\n      <th>0</th>\n      <td>הרניה 06</td>\n      <td>33</td>\n      <td>26.0</td>\n      <td>0.888587</td>\n      <td>176.0</td>\n      <td>[0.8941666666666667, 1.105, 0.9786111111111111...</td>\n      <td>0.277584</td>\n    </tr>\n    <tr>\n      <th>1</th>\n      <td>מעי גס 051</td>\n      <td>50</td>\n      <td>158.0</td>\n      <td>3.067114</td>\n      <td>64.0</td>\n      <td>[2.9558333333333335, 3.636111111111111, 4.3355...</td>\n      <td>1.077414</td>\n    </tr>\n    <tr>\n      <th>2</th>\n      <td>עמ\"ש 024(מבוגרים)</td>\n      <td>51</td>\n      <td>46.0</td>\n      <td>4.970605</td>\n      <td>45.0</td>\n      <td>[4.923055555555556, 8.329444444444444, 6.58833...</td>\n      <td>1.760023</td>\n    </tr>\n    <tr>\n      <th>3</th>\n      <td>בלוטות לימפה 07</td>\n      <td>73</td>\n      <td>124.0</td>\n      <td>0.656235</td>\n      <td>63.0</td>\n      <td>[0.5672222222222222, 0.6527777777777778, 0.583...</td>\n      <td>0.264419</td>\n    </tr>\n    <tr>\n      <th>4</th>\n      <td>קיבה 05 ()LAP</td>\n      <td>2</td>\n      <td>42.0</td>\n      <td>1.261255</td>\n      <td>270.0</td>\n      <td>[1.1094444444444445, 1.8683333333333334, 1.186...</td>\n      <td>0.325605</td>\n    </tr>\n    <tr>\n      <th>...</th>\n      <td>...</td>\n      <td>...</td>\n      <td>...</td>\n      <td>...</td>\n      <td>...</td>\n      <td>...</td>\n      <td>...</td>\n    </tr>\n    <tr>\n      <th>192</th>\n      <td>גפה תחתונה 06(מבוגרים)</td>\n      <td>30</td>\n      <td>253.0</td>\n      <td>2.187639</td>\n      <td>2.0</td>\n      <td>[1.8244444444444445, 2.5508333333333333]</td>\n      <td>0.513635</td>\n    </tr>\n    <tr>\n      <th>193</th>\n      <td>גפה עליונה 06(מבוגרים)</td>\n      <td>25</td>\n      <td>121.0</td>\n      <td>1.525000</td>\n      <td>2.0</td>\n      <td>[0.8383333333333334, 2.2116666666666664]</td>\n      <td>0.971093</td>\n    </tr>\n    <tr>\n      <th>194</th>\n      <td>שונות 03(מבוגרים)</td>\n      <td>53</td>\n      <td>120.0</td>\n      <td>0.463333</td>\n      <td>2.0</td>\n      <td>[0.4197222222222222, 0.5069444444444444]</td>\n      <td>0.061675</td>\n    </tr>\n    <tr>\n      <th>195</th>\n      <td>מעי גס 021</td>\n      <td>47</td>\n      <td>186.0</td>\n      <td>1.614352</td>\n      <td>3.0</td>\n      <td>[1.441111111111111, 1.8280555555555555, 1.5738...</td>\n      <td>0.196620</td>\n    </tr>\n    <tr>\n      <th>196</th>\n      <td>עמ\"ש 024(מבוגרים)</td>\n      <td>51</td>\n      <td>48.0</td>\n      <td>5.425648</td>\n      <td>6.0</td>\n      <td>[5.032777777777778, 12.294722222222223, 3.5122...</td>\n      <td>3.461428</td>\n    </tr>\n  </tbody>\n</table>\n<p>197 rows × 7 columns</p>\n</div>"
     },
     "execution_count": 65,
     "metadata": {},
     "output_type": "execute_result"
    }
   ],
   "source": [
    "res1"
   ],
   "metadata": {
    "collapsed": false,
    "pycharm": {
     "name": "#%%\n"
    }
   }
  },
  {
   "cell_type": "code",
   "execution_count": 66,
   "outputs": [
    {
     "data": {
      "text/plain": "                 OperationDesc OperationType  Type_of_surgery       avg  \\\n0                 בטן 06 ()LAP            B8             86.0  1.517222   \n1     פרוקטו רקטום+פי הטבעת 03            E4             66.0  0.886389   \n2           שונות 081(מבוגרים)            58            120.0  1.006667   \n3      גפה תחתונה 021(מבוגרים)            32            181.0  3.375556   \n4                   מעי דק 011            60            222.0  2.235000   \n..                         ...           ...              ...       ...   \n168  החלפת מפרקים 021(מבוגרים)            40            372.0  0.266111   \n169   פרוקטו רקטום+פי הטבעת 04            E5            222.0  1.712778   \n170                 מעי גס 021            47            158.0  0.718056   \n171                   קיבה 061            28             86.0  1.973056   \n172                    לבלב 08            91            143.0  3.751389   \n\n     length       list_of_duration  \n0       1.0   [1.5172222222222222]  \n1       1.0   [0.8863888888888889]  \n2       1.0   [1.0066666666666666]  \n3       1.0   [3.3755555555555556]  \n4       1.0                [2.235]  \n..      ...                    ...  \n168     1.0  [0.26611111111111113]  \n169     1.0   [1.7127777777777777]  \n170     1.0   [0.7180555555555556]  \n171     1.0   [1.9730555555555556]  \n172     1.0    [3.751388888888889]  \n\n[173 rows x 6 columns]",
      "text/html": "<div>\n<style scoped>\n    .dataframe tbody tr th:only-of-type {\n        vertical-align: middle;\n    }\n\n    .dataframe tbody tr th {\n        vertical-align: top;\n    }\n\n    .dataframe thead th {\n        text-align: right;\n    }\n</style>\n<table border=\"1\" class=\"dataframe\">\n  <thead>\n    <tr style=\"text-align: right;\">\n      <th></th>\n      <th>OperationDesc</th>\n      <th>OperationType</th>\n      <th>Type_of_surgery</th>\n      <th>avg</th>\n      <th>length</th>\n      <th>list_of_duration</th>\n    </tr>\n  </thead>\n  <tbody>\n    <tr>\n      <th>0</th>\n      <td>בטן 06 ()LAP</td>\n      <td>B8</td>\n      <td>86.0</td>\n      <td>1.517222</td>\n      <td>1.0</td>\n      <td>[1.5172222222222222]</td>\n    </tr>\n    <tr>\n      <th>1</th>\n      <td>פרוקטו רקטום+פי הטבעת 03</td>\n      <td>E4</td>\n      <td>66.0</td>\n      <td>0.886389</td>\n      <td>1.0</td>\n      <td>[0.8863888888888889]</td>\n    </tr>\n    <tr>\n      <th>2</th>\n      <td>שונות 081(מבוגרים)</td>\n      <td>58</td>\n      <td>120.0</td>\n      <td>1.006667</td>\n      <td>1.0</td>\n      <td>[1.0066666666666666]</td>\n    </tr>\n    <tr>\n      <th>3</th>\n      <td>גפה תחתונה 021(מבוגרים)</td>\n      <td>32</td>\n      <td>181.0</td>\n      <td>3.375556</td>\n      <td>1.0</td>\n      <td>[3.3755555555555556]</td>\n    </tr>\n    <tr>\n      <th>4</th>\n      <td>מעי דק 011</td>\n      <td>60</td>\n      <td>222.0</td>\n      <td>2.235000</td>\n      <td>1.0</td>\n      <td>[2.235]</td>\n    </tr>\n    <tr>\n      <th>...</th>\n      <td>...</td>\n      <td>...</td>\n      <td>...</td>\n      <td>...</td>\n      <td>...</td>\n      <td>...</td>\n    </tr>\n    <tr>\n      <th>168</th>\n      <td>החלפת מפרקים 021(מבוגרים)</td>\n      <td>40</td>\n      <td>372.0</td>\n      <td>0.266111</td>\n      <td>1.0</td>\n      <td>[0.26611111111111113]</td>\n    </tr>\n    <tr>\n      <th>169</th>\n      <td>פרוקטו רקטום+פי הטבעת 04</td>\n      <td>E5</td>\n      <td>222.0</td>\n      <td>1.712778</td>\n      <td>1.0</td>\n      <td>[1.7127777777777777]</td>\n    </tr>\n    <tr>\n      <th>170</th>\n      <td>מעי גס 021</td>\n      <td>47</td>\n      <td>158.0</td>\n      <td>0.718056</td>\n      <td>1.0</td>\n      <td>[0.7180555555555556]</td>\n    </tr>\n    <tr>\n      <th>171</th>\n      <td>קיבה 061</td>\n      <td>28</td>\n      <td>86.0</td>\n      <td>1.973056</td>\n      <td>1.0</td>\n      <td>[1.9730555555555556]</td>\n    </tr>\n    <tr>\n      <th>172</th>\n      <td>לבלב 08</td>\n      <td>91</td>\n      <td>143.0</td>\n      <td>3.751389</td>\n      <td>1.0</td>\n      <td>[3.751388888888889]</td>\n    </tr>\n  </tbody>\n</table>\n<p>173 rows × 6 columns</p>\n</div>"
     },
     "execution_count": 66,
     "metadata": {},
     "output_type": "execute_result"
    }
   ],
   "source": [
    "res2"
   ],
   "metadata": {
    "collapsed": false,
    "pycharm": {
     "name": "#%%\n"
    }
   }
  },
  {
   "cell_type": "code",
   "execution_count": 67,
   "outputs": [
    {
     "data": {
      "text/plain": "                 OperationDesc OperationType  Type_of_surgery       avg  \\\n0                     הרניה 06            33             26.0  0.888587   \n1                   מעי גס 051            50            158.0  3.067114   \n2            עמ\"ש 024(מבוגרים)            51             46.0  4.970605   \n3              בלוטות לימפה 07            73            124.0  0.656235   \n4                קיבה 05 ()LAP             2             42.0  1.261255   \n..                         ...           ...              ...       ...   \n168  החלפת מפרקים 021(מבוגרים)            40            372.0  0.266111   \n169   פרוקטו רקטום+פי הטבעת 04            E5            222.0  1.712778   \n170                 מעי גס 021            47            158.0  0.718056   \n171                   קיבה 061            28             86.0  1.973056   \n172                    לבלב 08            91            143.0  3.751389   \n\n     length                                   list_of_duration        sd  \n0     176.0  [0.8941666666666667, 1.105, 0.9786111111111111...  0.277584  \n1      64.0  [2.9558333333333335, 3.636111111111111, 4.3355...  1.077414  \n2      45.0  [4.923055555555556, 8.329444444444444, 6.58833...  1.760023  \n3      63.0  [0.5672222222222222, 0.6527777777777778, 0.583...  0.264419  \n4     270.0  [1.1094444444444445, 1.8683333333333334, 1.186...  0.325605  \n..      ...                                                ...       ...  \n168     1.0                              [0.26611111111111113]       NaN  \n169     1.0                               [1.7127777777777777]       NaN  \n170     1.0                               [0.7180555555555556]       NaN  \n171     1.0                               [1.9730555555555556]       NaN  \n172     1.0                                [3.751388888888889]       NaN  \n\n[370 rows x 7 columns]",
      "text/html": "<div>\n<style scoped>\n    .dataframe tbody tr th:only-of-type {\n        vertical-align: middle;\n    }\n\n    .dataframe tbody tr th {\n        vertical-align: top;\n    }\n\n    .dataframe thead th {\n        text-align: right;\n    }\n</style>\n<table border=\"1\" class=\"dataframe\">\n  <thead>\n    <tr style=\"text-align: right;\">\n      <th></th>\n      <th>OperationDesc</th>\n      <th>OperationType</th>\n      <th>Type_of_surgery</th>\n      <th>avg</th>\n      <th>length</th>\n      <th>list_of_duration</th>\n      <th>sd</th>\n    </tr>\n  </thead>\n  <tbody>\n    <tr>\n      <th>0</th>\n      <td>הרניה 06</td>\n      <td>33</td>\n      <td>26.0</td>\n      <td>0.888587</td>\n      <td>176.0</td>\n      <td>[0.8941666666666667, 1.105, 0.9786111111111111...</td>\n      <td>0.277584</td>\n    </tr>\n    <tr>\n      <th>1</th>\n      <td>מעי גס 051</td>\n      <td>50</td>\n      <td>158.0</td>\n      <td>3.067114</td>\n      <td>64.0</td>\n      <td>[2.9558333333333335, 3.636111111111111, 4.3355...</td>\n      <td>1.077414</td>\n    </tr>\n    <tr>\n      <th>2</th>\n      <td>עמ\"ש 024(מבוגרים)</td>\n      <td>51</td>\n      <td>46.0</td>\n      <td>4.970605</td>\n      <td>45.0</td>\n      <td>[4.923055555555556, 8.329444444444444, 6.58833...</td>\n      <td>1.760023</td>\n    </tr>\n    <tr>\n      <th>3</th>\n      <td>בלוטות לימפה 07</td>\n      <td>73</td>\n      <td>124.0</td>\n      <td>0.656235</td>\n      <td>63.0</td>\n      <td>[0.5672222222222222, 0.6527777777777778, 0.583...</td>\n      <td>0.264419</td>\n    </tr>\n    <tr>\n      <th>4</th>\n      <td>קיבה 05 ()LAP</td>\n      <td>2</td>\n      <td>42.0</td>\n      <td>1.261255</td>\n      <td>270.0</td>\n      <td>[1.1094444444444445, 1.8683333333333334, 1.186...</td>\n      <td>0.325605</td>\n    </tr>\n    <tr>\n      <th>...</th>\n      <td>...</td>\n      <td>...</td>\n      <td>...</td>\n      <td>...</td>\n      <td>...</td>\n      <td>...</td>\n      <td>...</td>\n    </tr>\n    <tr>\n      <th>168</th>\n      <td>החלפת מפרקים 021(מבוגרים)</td>\n      <td>40</td>\n      <td>372.0</td>\n      <td>0.266111</td>\n      <td>1.0</td>\n      <td>[0.26611111111111113]</td>\n      <td>NaN</td>\n    </tr>\n    <tr>\n      <th>169</th>\n      <td>פרוקטו רקטום+פי הטבעת 04</td>\n      <td>E5</td>\n      <td>222.0</td>\n      <td>1.712778</td>\n      <td>1.0</td>\n      <td>[1.7127777777777777]</td>\n      <td>NaN</td>\n    </tr>\n    <tr>\n      <th>170</th>\n      <td>מעי גס 021</td>\n      <td>47</td>\n      <td>158.0</td>\n      <td>0.718056</td>\n      <td>1.0</td>\n      <td>[0.7180555555555556]</td>\n      <td>NaN</td>\n    </tr>\n    <tr>\n      <th>171</th>\n      <td>קיבה 061</td>\n      <td>28</td>\n      <td>86.0</td>\n      <td>1.973056</td>\n      <td>1.0</td>\n      <td>[1.9730555555555556]</td>\n      <td>NaN</td>\n    </tr>\n    <tr>\n      <th>172</th>\n      <td>לבלב 08</td>\n      <td>91</td>\n      <td>143.0</td>\n      <td>3.751389</td>\n      <td>1.0</td>\n      <td>[3.751388888888889]</td>\n      <td>NaN</td>\n    </tr>\n  </tbody>\n</table>\n<p>370 rows × 7 columns</p>\n</div>"
     },
     "execution_count": 67,
     "metadata": {},
     "output_type": "execute_result"
    }
   ],
   "source": [
    "res= res1.append(res2)\n",
    "res"
   ],
   "metadata": {
    "collapsed": false,
    "pycharm": {
     "name": "#%%\n"
    }
   }
  },
  {
   "cell_type": "code",
   "execution_count": 68,
   "outputs": [],
   "source": [
    "res.to_excel(r\"files/duration_data.xlsx\", index=False)"
   ],
   "metadata": {
    "collapsed": false,
    "pycharm": {
     "name": "#%%\n"
    }
   }
  }
 ],
 "metadata": {
  "kernelspec": {
   "name": "python3",
   "language": "python",
   "display_name": "Python 3"
  },
  "language_info": {
   "codemirror_mode": {
    "name": "ipython",
    "version": 2
   },
   "file_extension": ".py",
   "mimetype": "text/x-python",
   "name": "python",
   "nbconvert_exporter": "python",
   "pygments_lexer": "ipython2",
   "version": "2.7.6"
  }
 },
 "nbformat": 4,
 "nbformat_minor": 0
}